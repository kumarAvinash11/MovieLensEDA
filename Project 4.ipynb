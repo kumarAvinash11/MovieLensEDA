{
 "cells": [
  {
   "cell_type": "markdown",
   "metadata": {},
   "source": [
    "# Project 04: Movielens Dataset Analysis"
   ]
  },
  {
   "cell_type": "code",
   "execution_count": 2,
   "metadata": {},
   "outputs": [],
   "source": [
    "#importing required library\n",
    "import pandas as pd\n",
    "import matplotlib.pyplot as plt\n",
    "from matplotlib import style\n",
    "%matplotlib inline"
   ]
  },
  {
   "cell_type": "code",
   "execution_count": 3,
   "metadata": {},
   "outputs": [],
   "source": [
    "#Loaading dataset\n",
    "#movie data\n",
    "movie_data = pd.read_csv(\"movies.dat\", sep = '\\::', header = None , names = ['MovieID', 'Title', 'Genre'], engine = 'python')\n",
    "#User data\n",
    "user_data = pd.read_csv(\"users.dat\", sep = '\\::', header = None, names =['UserID', 'Gender', 'Age','Occupation', 'Zip-code'], engine = 'python')\n",
    "#Rating data\n",
    "rating_data = pd.read_csv(\"ratings.dat\", sep = '\\::', header = None, names = ['UserID','MovieID','Rating','Timestamp'],engine = 'python')\n"
   ]
  },
  {
   "cell_type": "code",
   "execution_count": 4,
   "metadata": {},
   "outputs": [
    {
     "data": {
      "text/html": [
       "<div>\n",
       "<style scoped>\n",
       "    .dataframe tbody tr th:only-of-type {\n",
       "        vertical-align: middle;\n",
       "    }\n",
       "\n",
       "    .dataframe tbody tr th {\n",
       "        vertical-align: top;\n",
       "    }\n",
       "\n",
       "    .dataframe thead th {\n",
       "        text-align: right;\n",
       "    }\n",
       "</style>\n",
       "<table border=\"1\" class=\"dataframe\">\n",
       "  <thead>\n",
       "    <tr style=\"text-align: right;\">\n",
       "      <th></th>\n",
       "      <th>MovieID</th>\n",
       "      <th>Title</th>\n",
       "      <th>Genre</th>\n",
       "    </tr>\n",
       "  </thead>\n",
       "  <tbody>\n",
       "    <tr>\n",
       "      <th>0</th>\n",
       "      <td>1</td>\n",
       "      <td>Toy Story (1995)</td>\n",
       "      <td>Animation|Children's|Comedy</td>\n",
       "    </tr>\n",
       "    <tr>\n",
       "      <th>1</th>\n",
       "      <td>2</td>\n",
       "      <td>Jumanji (1995)</td>\n",
       "      <td>Adventure|Children's|Fantasy</td>\n",
       "    </tr>\n",
       "    <tr>\n",
       "      <th>2</th>\n",
       "      <td>3</td>\n",
       "      <td>Grumpier Old Men (1995)</td>\n",
       "      <td>Comedy|Romance</td>\n",
       "    </tr>\n",
       "    <tr>\n",
       "      <th>3</th>\n",
       "      <td>4</td>\n",
       "      <td>Waiting to Exhale (1995)</td>\n",
       "      <td>Comedy|Drama</td>\n",
       "    </tr>\n",
       "    <tr>\n",
       "      <th>4</th>\n",
       "      <td>5</td>\n",
       "      <td>Father of the Bride Part II (1995)</td>\n",
       "      <td>Comedy</td>\n",
       "    </tr>\n",
       "    <tr>\n",
       "      <th>5</th>\n",
       "      <td>6</td>\n",
       "      <td>Heat (1995)</td>\n",
       "      <td>Action|Crime|Thriller</td>\n",
       "    </tr>\n",
       "    <tr>\n",
       "      <th>6</th>\n",
       "      <td>7</td>\n",
       "      <td>Sabrina (1995)</td>\n",
       "      <td>Comedy|Romance</td>\n",
       "    </tr>\n",
       "    <tr>\n",
       "      <th>7</th>\n",
       "      <td>8</td>\n",
       "      <td>Tom and Huck (1995)</td>\n",
       "      <td>Adventure|Children's</td>\n",
       "    </tr>\n",
       "    <tr>\n",
       "      <th>8</th>\n",
       "      <td>9</td>\n",
       "      <td>Sudden Death (1995)</td>\n",
       "      <td>Action</td>\n",
       "    </tr>\n",
       "    <tr>\n",
       "      <th>9</th>\n",
       "      <td>10</td>\n",
       "      <td>GoldenEye (1995)</td>\n",
       "      <td>Action|Adventure|Thriller</td>\n",
       "    </tr>\n",
       "  </tbody>\n",
       "</table>\n",
       "</div>"
      ],
      "text/plain": [
       "   MovieID                               Title                         Genre\n",
       "0        1                    Toy Story (1995)   Animation|Children's|Comedy\n",
       "1        2                      Jumanji (1995)  Adventure|Children's|Fantasy\n",
       "2        3             Grumpier Old Men (1995)                Comedy|Romance\n",
       "3        4            Waiting to Exhale (1995)                  Comedy|Drama\n",
       "4        5  Father of the Bride Part II (1995)                        Comedy\n",
       "5        6                         Heat (1995)         Action|Crime|Thriller\n",
       "6        7                      Sabrina (1995)                Comedy|Romance\n",
       "7        8                 Tom and Huck (1995)          Adventure|Children's\n",
       "8        9                 Sudden Death (1995)                        Action\n",
       "9       10                    GoldenEye (1995)     Action|Adventure|Thriller"
      ]
     },
     "execution_count": 4,
     "metadata": {},
     "output_type": "execute_result"
    }
   ],
   "source": [
    "#Checking movie data\n",
    "movie_data.head(10)"
   ]
  },
  {
   "cell_type": "code",
   "execution_count": 5,
   "metadata": {},
   "outputs": [
    {
     "data": {
      "text/html": [
       "<div>\n",
       "<style scoped>\n",
       "    .dataframe tbody tr th:only-of-type {\n",
       "        vertical-align: middle;\n",
       "    }\n",
       "\n",
       "    .dataframe tbody tr th {\n",
       "        vertical-align: top;\n",
       "    }\n",
       "\n",
       "    .dataframe thead th {\n",
       "        text-align: right;\n",
       "    }\n",
       "</style>\n",
       "<table border=\"1\" class=\"dataframe\">\n",
       "  <thead>\n",
       "    <tr style=\"text-align: right;\">\n",
       "      <th></th>\n",
       "      <th>UserID</th>\n",
       "      <th>Gender</th>\n",
       "      <th>Age</th>\n",
       "      <th>Occupation</th>\n",
       "      <th>Zip-code</th>\n",
       "    </tr>\n",
       "  </thead>\n",
       "  <tbody>\n",
       "    <tr>\n",
       "      <th>0</th>\n",
       "      <td>1</td>\n",
       "      <td>F</td>\n",
       "      <td>1</td>\n",
       "      <td>10</td>\n",
       "      <td>48067</td>\n",
       "    </tr>\n",
       "    <tr>\n",
       "      <th>1</th>\n",
       "      <td>2</td>\n",
       "      <td>M</td>\n",
       "      <td>56</td>\n",
       "      <td>16</td>\n",
       "      <td>70072</td>\n",
       "    </tr>\n",
       "    <tr>\n",
       "      <th>2</th>\n",
       "      <td>3</td>\n",
       "      <td>M</td>\n",
       "      <td>25</td>\n",
       "      <td>15</td>\n",
       "      <td>55117</td>\n",
       "    </tr>\n",
       "    <tr>\n",
       "      <th>3</th>\n",
       "      <td>4</td>\n",
       "      <td>M</td>\n",
       "      <td>45</td>\n",
       "      <td>7</td>\n",
       "      <td>02460</td>\n",
       "    </tr>\n",
       "    <tr>\n",
       "      <th>4</th>\n",
       "      <td>5</td>\n",
       "      <td>M</td>\n",
       "      <td>25</td>\n",
       "      <td>20</td>\n",
       "      <td>55455</td>\n",
       "    </tr>\n",
       "    <tr>\n",
       "      <th>5</th>\n",
       "      <td>6</td>\n",
       "      <td>F</td>\n",
       "      <td>50</td>\n",
       "      <td>9</td>\n",
       "      <td>55117</td>\n",
       "    </tr>\n",
       "    <tr>\n",
       "      <th>6</th>\n",
       "      <td>7</td>\n",
       "      <td>M</td>\n",
       "      <td>35</td>\n",
       "      <td>1</td>\n",
       "      <td>06810</td>\n",
       "    </tr>\n",
       "    <tr>\n",
       "      <th>7</th>\n",
       "      <td>8</td>\n",
       "      <td>M</td>\n",
       "      <td>25</td>\n",
       "      <td>12</td>\n",
       "      <td>11413</td>\n",
       "    </tr>\n",
       "    <tr>\n",
       "      <th>8</th>\n",
       "      <td>9</td>\n",
       "      <td>M</td>\n",
       "      <td>25</td>\n",
       "      <td>17</td>\n",
       "      <td>61614</td>\n",
       "    </tr>\n",
       "    <tr>\n",
       "      <th>9</th>\n",
       "      <td>10</td>\n",
       "      <td>F</td>\n",
       "      <td>35</td>\n",
       "      <td>1</td>\n",
       "      <td>95370</td>\n",
       "    </tr>\n",
       "  </tbody>\n",
       "</table>\n",
       "</div>"
      ],
      "text/plain": [
       "   UserID Gender  Age  Occupation Zip-code\n",
       "0       1      F    1          10    48067\n",
       "1       2      M   56          16    70072\n",
       "2       3      M   25          15    55117\n",
       "3       4      M   45           7    02460\n",
       "4       5      M   25          20    55455\n",
       "5       6      F   50           9    55117\n",
       "6       7      M   35           1    06810\n",
       "7       8      M   25          12    11413\n",
       "8       9      M   25          17    61614\n",
       "9      10      F   35           1    95370"
      ]
     },
     "execution_count": 5,
     "metadata": {},
     "output_type": "execute_result"
    }
   ],
   "source": [
    "#Checking Userdata\n",
    "user_data.head(10)"
   ]
  },
  {
   "cell_type": "code",
   "execution_count": 6,
   "metadata": {},
   "outputs": [
    {
     "data": {
      "text/html": [
       "<div>\n",
       "<style scoped>\n",
       "    .dataframe tbody tr th:only-of-type {\n",
       "        vertical-align: middle;\n",
       "    }\n",
       "\n",
       "    .dataframe tbody tr th {\n",
       "        vertical-align: top;\n",
       "    }\n",
       "\n",
       "    .dataframe thead th {\n",
       "        text-align: right;\n",
       "    }\n",
       "</style>\n",
       "<table border=\"1\" class=\"dataframe\">\n",
       "  <thead>\n",
       "    <tr style=\"text-align: right;\">\n",
       "      <th></th>\n",
       "      <th>UserID</th>\n",
       "      <th>MovieID</th>\n",
       "      <th>Rating</th>\n",
       "      <th>Timestamp</th>\n",
       "    </tr>\n",
       "  </thead>\n",
       "  <tbody>\n",
       "    <tr>\n",
       "      <th>0</th>\n",
       "      <td>1</td>\n",
       "      <td>1193</td>\n",
       "      <td>5</td>\n",
       "      <td>978300760</td>\n",
       "    </tr>\n",
       "    <tr>\n",
       "      <th>1</th>\n",
       "      <td>1</td>\n",
       "      <td>661</td>\n",
       "      <td>3</td>\n",
       "      <td>978302109</td>\n",
       "    </tr>\n",
       "    <tr>\n",
       "      <th>2</th>\n",
       "      <td>1</td>\n",
       "      <td>914</td>\n",
       "      <td>3</td>\n",
       "      <td>978301968</td>\n",
       "    </tr>\n",
       "    <tr>\n",
       "      <th>3</th>\n",
       "      <td>1</td>\n",
       "      <td>3408</td>\n",
       "      <td>4</td>\n",
       "      <td>978300275</td>\n",
       "    </tr>\n",
       "    <tr>\n",
       "      <th>4</th>\n",
       "      <td>1</td>\n",
       "      <td>2355</td>\n",
       "      <td>5</td>\n",
       "      <td>978824291</td>\n",
       "    </tr>\n",
       "  </tbody>\n",
       "</table>\n",
       "</div>"
      ],
      "text/plain": [
       "   UserID  MovieID  Rating  Timestamp\n",
       "0       1     1193       5  978300760\n",
       "1       1      661       3  978302109\n",
       "2       1      914       3  978301968\n",
       "3       1     3408       4  978300275\n",
       "4       1     2355       5  978824291"
      ]
     },
     "execution_count": 6,
     "metadata": {},
     "output_type": "execute_result"
    }
   ],
   "source": [
    "#Checking rating data\n",
    "rating_data.head()"
   ]
  },
  {
   "cell_type": "code",
   "execution_count": 7,
   "metadata": {},
   "outputs": [
    {
     "name": "stdout",
     "output_type": "stream",
     "text": [
      "Shape of movie dataset  : (3883, 3)\n",
      "Shape of user dataset   : (6040, 5)\n",
      "Shape of rating dataset : (1000209, 4)\n"
     ]
    }
   ],
   "source": [
    "#Checking shape of each dataset\n",
    "print('Shape of movie dataset  :',movie_data.shape)\n",
    "print('Shape of user dataset   :',user_data.shape)\n",
    "print('Shape of rating dataset :',rating_data.shape)"
   ]
  },
  {
   "cell_type": "markdown",
   "metadata": {},
   "source": [
    "# Visualising the distribution of age groups."
   ]
  },
  {
   "cell_type": "code",
   "execution_count": 8,
   "metadata": {},
   "outputs": [
    {
     "name": "stderr",
     "output_type": "stream",
     "text": [
      "C:\\Users\\Ankush\\Anaconda3\\lib\\site-packages\\ipykernel_launcher.py:12: MatplotlibDeprecationWarning: Adding an axes using the same arguments as a previous axes currently reuses the earlier instance.  In a future version, a new instance will always be created and returned.  Meanwhile, this warning can be suppressed, and the future behavior ensured, by passing a unique label to each axes instance.\n",
      "  if sys.path[0] == '':\n"
     ]
    },
    {
     "data": {
      "text/plain": [
       "Text(0.5, 1.0, 'Age Distribution of people ')"
      ]
     },
     "execution_count": 8,
     "metadata": {},
     "output_type": "execute_result"
    },
    {
     "data": {
      "image/png": "[encoded data removed]",
      "text/plain": [
       "<Figure size 432x288 with 1 Axes>"
      ]
     },
     "metadata": {
      "needs_background": "light"
     },
     "output_type": "display_data"
    }
   ],
   "source": [
    "\n",
    "grouped_age=user_data.groupby('Age').count()\n",
    "#print(grouped_age)\n",
    "count_of_each_age = [i for i in grouped_age.UserID]\n",
    "#print(count_of_each_age)\n",
    "x_label = ['Under 18', '18-24', '25-34', '35-44', '45-49','50-55', '56+']\n",
    "plt.axis([0,40, 0,2200])\n",
    "\n",
    "\n",
    "x_axis = range(len(x_label))\n",
    "new_x_axis = [6*i + 2 for i in x_axis]\n",
    "plt.bar(new_x_axis, count_of_each_age, facecolor = 'brown', width =4, align = 'center')\n",
    "ax = plt.subplot()\n",
    "ax.set_xticks(new_x_axis)\n",
    "ax.set_xticklabels(x_label,rotation = 30)\n",
    "plt.xlabel('Age Groups---->')\n",
    "plt.ylabel('Number of People---->')\n",
    "plt.title('Age Distribution of people ')"
   ]
  },
  {
   "cell_type": "markdown",
   "metadata": {},
   "source": [
    "# Visualizing overall rating by users."
   ]
  },
  {
   "cell_type": "code",
   "execution_count": 9,
   "metadata": {},
   "outputs": [
    {
     "name": "stderr",
     "output_type": "stream",
     "text": [
      "C:\\Users\\Ankush\\Anaconda3\\lib\\site-packages\\ipykernel_launcher.py:14: MatplotlibDeprecationWarning: Adding an axes using the same arguments as a previous axes currently reuses the earlier instance.  In a future version, a new instance will always be created and returned.  Meanwhile, this warning can be suppressed, and the future behavior ensured, by passing a unique label to each axes instance.\n",
      "  \n"
     ]
    },
    {
     "data": {
      "text/plain": [
       "Text(0.5, 1.0, 'Overall Rating By Users')"
      ]
     },
     "execution_count": 9,
     "metadata": {},
     "output_type": "execute_result"
    },
    {
     "data": {
      "image/png": "[encoded data removed]",
      "text/plain": [
       "<Figure size 432x288 with 1 Axes>"
      ]
     },
     "metadata": {
      "needs_background": "light"
     },
     "output_type": "display_data"
    }
   ],
   "source": [
    "\n",
    "grouped_rating = rating_data.groupby('Rating').count()\n",
    "count_of_people_each_rating = [i for i in grouped_rating.UserID]\n",
    "#print(count_of_people_each_rating) \n",
    "\n",
    "\n",
    "x_label = [\"1\",\"2\",\"3\",\"4\",\"5\"]\n",
    "\n",
    "x_axis = range(len(x_label))\n",
    "#print(x_axis)\n",
    "new_x_axis = [6*i +2 for i in x_axis ]\n",
    "#print(new_x_axis)\n",
    "\n",
    "plt.bar(new_x_axis, count_of_people_each_rating, facecolor = 'yellow', width = 4)\n",
    "ax1 = plt.subplot()\n",
    "ax1.set_xticks(new_x_axis)\n",
    "ax1.set_xticklabels(x_label)\n",
    "plt.xlabel('Ratings---->')\n",
    "plt.ylabel('Number of people---->')\n",
    "plt.title('Overall Rating By Users')\n"
   ]
  },
  {
   "cell_type": "markdown",
   "metadata": {},
   "source": [
    "# User Rating of movie \"Toy Story\""
   ]
  },
  {
   "cell_type": "code",
   "execution_count": 10,
   "metadata": {},
   "outputs": [
    {
     "name": "stdout",
     "output_type": "stream",
     "text": [
      "------------Rating By Users-------------------------------------\n",
      "\n",
      "\n",
      "Number of users giving rating  1 : 56174\n",
      "Number of users giving rating  2 : 107557\n",
      "Number of users giving rating  3 : 261197\n",
      "Number of users giving rating  4 : 348971\n",
      "Number of users giving rating  5 : 226310\n",
      "----------------------------------------------------------------\n"
     ]
    },
    {
     "name": "stderr",
     "output_type": "stream",
     "text": [
      "C:\\Users\\Ankush\\Anaconda3\\lib\\site-packages\\ipykernel_launcher.py:18: MatplotlibDeprecationWarning: Adding an axes using the same arguments as a previous axes currently reuses the earlier instance.  In a future version, a new instance will always be created and returned.  Meanwhile, this warning can be suppressed, and the future behavior ensured, by passing a unique label to each axes instance.\n"
     ]
    },
    {
     "data": {
      "image/png": "[encoded data removed]",
      "text/plain": [
       "<Figure size 432x288 with 1 Axes>"
      ]
     },
     "metadata": {
      "needs_background": "light"
     },
     "output_type": "display_data"
    }
   ],
   "source": [
    "group_by_movieID = rating_data.groupby('MovieID')\n",
    "group_of_toy_story = group_by_movieID.get_group(1)\n",
    "#print(group_of_toy_story)\n",
    "group_toy_story_rating = group_of_toy_story.groupby('Rating').count()\n",
    "#print(group_toy_story_rating)\n",
    "count_people_toy_story_rating = [i for i in group_toy_story_rating.UserID]\n",
    "#print(count_people_toy_story_rating)\n",
    "\n",
    "\n",
    "x_label = [\"1\",\"2\",\"3\",\"4\",\"5\"]\n",
    "x_axis = range(len(x_label))\n",
    "#print(x_axis)\n",
    "new_x_axis = [6*i +2 for i in x_axis ]\n",
    "#print(new_x_axis)\n",
    "\n",
    "\n",
    "plt.bar(new_x_axis, count_of_people_each_rating, facecolor = 'orange', width = 4)\n",
    "ax2 = plt.subplot()\n",
    "ax2.set_xticks(new_x_axis)\n",
    "ax2.set_xticklabels(x_label)\n",
    "plt.xlabel('Ratings---->')\n",
    "plt.ylabel('Number of people---->')\n",
    "plt.title('User Rating of the movie “Toy Story”')\n",
    "\n",
    "print('------------Rating By Users-------------------------------------')\n",
    "print('\\n')\n",
    "for i in range(len(count_of_people_each_rating)):\n",
    "    print('Number of users giving rating ',i+1,\":\",count_of_people_each_rating[i])\n",
    "\n",
    "print('----------------------------------------------------------------')"
   ]
  },
  {
   "cell_type": "markdown",
   "metadata": {},
   "source": [
    "# \tFind and visualize the viewership of the movie “Toy Story” by age group"
   ]
  },
  {
   "cell_type": "code",
   "execution_count": 11,
   "metadata": {},
   "outputs": [
    {
     "name": "stderr",
     "output_type": "stream",
     "text": [
      "C:\\Users\\Ankush\\Anaconda3\\lib\\site-packages\\ipykernel_launcher.py:18: MatplotlibDeprecationWarning: Adding an axes using the same arguments as a previous axes currently reuses the earlier instance.  In a future version, a new instance will always be created and returned.  Meanwhile, this warning can be suppressed, and the future behavior ensured, by passing a unique label to each axes instance.\n"
     ]
    },
    {
     "name": "stdout",
     "output_type": "stream",
     "text": [
      "**************Viewership of the movie by age group************\n",
      "\n",
      "Viewership of movie by age  Under 18 : 112\n",
      "Viewership of movie by age  18-24 : 448\n",
      "Viewership of movie by age  25-34 : 790\n",
      "Viewership of movie by age  35-44 : 423\n",
      "Viewership of movie by age  45-49 : 143\n",
      "Viewership of movie by age  50-55 : 108\n",
      "Viewership of movie by age  56+ : 53\n",
      "**************************************************************\n"
     ]
    },
    {
     "data": {
      "image/png": "[encoded data removed]",
      "text/plain": [
       "<Figure size 432x288 with 1 Axes>"
      ]
     },
     "metadata": {
      "needs_background": "light"
     },
     "output_type": "display_data"
    }
   ],
   "source": [
    "merge_user_rating_data = user_data.merge(rating_data)\n",
    "#new_dataset.head(15)\n",
    "#new_dataset.shape\n",
    "\n",
    "group_by_movieID = merge_user_rating_data.groupby('MovieID')\n",
    "group_of_toy_story = group_by_movieID.get_group(1)\n",
    "group_toy_story_by_age = group_of_toy_story.groupby('Age').count()\n",
    "#print(group_toy_story_by_age)\n",
    "count_age_group_toy_story = [i for i in group_toy_story_by_age.UserID]\n",
    "#print(count_age_group_toy_story)\n",
    "\n",
    "\n",
    "x_label = ['Under 18', '18-24', '25-34', '35-44', '45-49','50-55', '56+']\n",
    "\n",
    "x_axis = range(len(x_label))\n",
    "new_x_axis = [6*i + 2 for i in x_axis]\n",
    "plt.bar(new_x_axis, count_age_group_toy_story, facecolor = 'c', width =4, align = 'center')\n",
    "ax = plt.subplot()\n",
    "ax.set_xticks(new_x_axis)\n",
    "ax.set_xticklabels(x_label,rotation = 30)\n",
    "plt.xlabel('Age Groups---->')\n",
    "plt.ylabel('Number of People ---->')\n",
    "plt.title('Viewership of the movie “Toy Story” by Age group ')\n",
    "\n",
    "print('**************Viewership of the movie by age group************')\n",
    "print()\n",
    "for i in range(len(count_age_group_toy_story)):\n",
    "    print('Viewership of movie by age ',x_label[i],\":\",count_age_group_toy_story[i])\n",
    "print('**************************************************************')"
   ]
  },
  {
   "cell_type": "markdown",
   "metadata": {},
   "source": [
    "# Find and visualize the top 25 movies by viewership rating"
   ]
  },
  {
   "cell_type": "code",
   "execution_count": 12,
   "metadata": {},
   "outputs": [
    {
     "name": "stdout",
     "output_type": "stream",
     "text": [
      "[3428, 2991, 2990, 2883, 2672, 2653, 2649, 2590, 2583, 2578, 2538, 2514, 2513, 2459, 2443, 2369, 2318, 2304, 2288, 2278, 2269, 2250, 2241, 2227, 2223]\n"
     ]
    },
    {
     "name": "stderr",
     "output_type": "stream",
     "text": [
      "C:\\Users\\Ankush\\Anaconda3\\lib\\site-packages\\ipykernel_launcher.py:34: MatplotlibDeprecationWarning: Adding an axes using the same arguments as a previous axes currently reuses the earlier instance.  In a future version, a new instance will always be created and returned.  Meanwhile, this warning can be suppressed, and the future behavior ensured, by passing a unique label to each axes instance.\n"
     ]
    },
    {
     "data": {
      "image/png": "[encoded data removed]",
      "text/plain": [
       "<Figure size 432x288 with 1 Axes>"
      ]
     },
     "metadata": {
      "needs_background": "light"
     },
     "output_type": "display_data"
    },
    {
     "name": "stdout",
     "output_type": "stream",
     "text": [
      "**************Top 25 movies by Viewership Rating************\n",
      "\n",
      "1 : Brief Encounter (1946) --------> 3428\n",
      "2 : Ladybird Ladybird (1994) --------> 2991\n",
      "3 : Alien (1979) --------> 2990\n",
      "4 : Raging Bull (1980) --------> 2883\n",
      "5 : Lassie (1994) --------> 2672\n",
      "6 : Something Wicked This Way Comes (1983) --------> 2653\n",
      "7 : Silence of the Lambs, The (1991) --------> 2649\n",
      "8 : Superman (1978) --------> 2590\n",
      "9 : Some Kind of Wonderful (1987) --------> 2583\n",
      "10 : Pretty Woman (1990) --------> 2578\n",
      "11 : Wishmaster (1997) --------> 2538\n",
      "12 : Big Blue, The (Le Grand Bleu) (1988) --------> 2514\n",
      "13 : Pallbearer, The (1996) --------> 2513\n",
      "14 : Dog of Flanders, A (1999) --------> 2459\n",
      "15 : Rumble in the Bronx (1995) --------> 2443\n",
      "16 : Deadly Friend (1986) --------> 2369\n",
      "17 : Army of Darkness (1993) --------> 2318\n",
      "18 : Secret Garden, The (1993) --------> 2304\n",
      "19 : Stripes (1981) --------> 2288\n",
      "20 : Heathers (1989) --------> 2278\n",
      "21 : Associate, The (1996) --------> 2269\n",
      "22 : My Son the Fanatic (1998) --------> 2250\n",
      "23 : Tora! Tora! Tora! (1970) --------> 2241\n",
      "24 : Strawberry and Chocolate (Fresa y chocolate) (1993) --------> 2227\n",
      "25 : Kansas City (1996) --------> 2223\n",
      "**************************************************************\n"
     ]
    }
   ],
   "source": [
    "new_merge_data = movie_data.merge(rating_data)\n",
    "#print(new_merge_data.head())\n",
    "\n",
    "group_by_movieID = new_merge_data.groupby('MovieID').count()\n",
    "#print(group_by_movieID)\n",
    "\n",
    "sorting_group_movie = group_by_movieID.sort_values(by = 'Rating', ascending = False)\n",
    "#print(sorting_group_movie)\n",
    "\n",
    "top_25_movies_by_viewership_rating = sorting_group_movie.head(25)\n",
    "#print(top_25_movies_by_viewership_rating)\n",
    "#top_25_movies_by_viewership_rating.shape\n",
    "top_25_movies = [i for i in top_25_movies_by_viewership_rating.Rating ]\n",
    "print(top_25_movies)\n",
    "list_of_movie_id = top_25_movies_by_viewership_rating.index\n",
    "#print(list_of_movie_id)\n",
    "top_25_movies_name = []\n",
    "\n",
    "for i in range(len(list_of_movie_id)):\n",
    "    id = list_of_movie_id[i]\n",
    "    name = movie_data.loc[id].Title\n",
    "    top_25_movies_name.append(name)\n",
    "\n",
    "#print(top_25_movies_name)\n",
    "\n",
    "#Visualize\n",
    "x_axis = range(len(top_25_movies_name))\n",
    "#print(x_axis)\n",
    "new_x_axis = [6*i +2 for i in x_axis ]\n",
    "#print(new_x_axis)\n",
    "\n",
    "\n",
    "plt.bar(new_x_axis, top_25_movies , facecolor = 'm', width = 4)\n",
    "ax2 = plt.subplot()\n",
    "ax2.set_xticks(new_x_axis)\n",
    "ax2.set_xticklabels(top_25_movies_name, rotation = 90)\n",
    "plt.xlabel('Movie Names---->')\n",
    "plt.ylabel(' Viewership Rating ---->')\n",
    "plt.title('Top 25 movies by Viewership Rating')\n",
    "plt.show()\n",
    "print('**************Top 25 movies by Viewership Rating************')\n",
    "print()\n",
    "for i in range(len(top_25_movies)):\n",
    "    print(i+1,\":\",top_25_movies_name[i],'-------->',top_25_movies[i])\n",
    "print('**************************************************************')"
   ]
  },
  {
   "cell_type": "markdown",
   "metadata": {},
   "source": [
    "# Find and visualize the rating for a particular user of user id = 2696\n"
   ]
  },
  {
   "cell_type": "code",
   "execution_count": 13,
   "metadata": {},
   "outputs": [
    {
     "name": "stderr",
     "output_type": "stream",
     "text": [
      "C:\\Users\\Ankush\\Anaconda3\\lib\\site-packages\\ipykernel_launcher.py:18: MatplotlibDeprecationWarning: Adding an axes using the same arguments as a previous axes currently reuses the earlier instance.  In a future version, a new instance will always be created and returned.  Meanwhile, this warning can be suppressed, and the future behavior ensured, by passing a unique label to each axes instance.\n"
     ]
    },
    {
     "data": {
      "image/png": "[encoded data removed]",
      "text/plain": [
       "<Figure size 432x288 with 1 Axes>"
      ]
     },
     "metadata": {
      "needs_background": "light"
     },
     "output_type": "display_data"
    },
    {
     "name": "stdout",
     "output_type": "stream",
     "text": [
      "**************Rating by user id = 2696************************\n",
      "\n",
      "Rating  1 : 2\n",
      "Rating  2 : 3\n",
      "Rating  3 : 3\n",
      "Rating  4 : 11\n",
      "Rating  5 : 1\n",
      "**************************************************************\n"
     ]
    }
   ],
   "source": [
    "rating_by_users = rating_data.groupby('UserID')\n",
    "rating_by_user_2696 = rating_by_users.get_group(2696)\n",
    "#print(rating_by_user_2696)\n",
    "rating_group_by_2696 = rating_by_user_2696.groupby('Rating').count()\n",
    "#print(rating_group_by_2696)\n",
    "\n",
    "rating_2696 = [i for i in rating_group_by_2696.UserID]\n",
    "#print(rating_2696)\n",
    "#Visualize\n",
    "x_label = [\"1\",\"2\",\"3\",\"4\",\"5\"]\n",
    "x_axis = range(len(rating_2696))\n",
    "#print(x_axis)\n",
    "new_x_axis = [6*i +2 for i in x_axis ]\n",
    "#print(new_x_axis)\n",
    "\n",
    "\n",
    "plt.bar(new_x_axis, rating_2696, facecolor = 'm', width = 4)\n",
    "ax2 = plt.subplot()\n",
    "ax2.set_xticks(new_x_axis)\n",
    "ax2.set_xticklabels(x_label)\n",
    "plt.xlabel('Ratings---->')\n",
    "plt.ylabel('Rating Frequency---->')\n",
    "plt.title('The rating data by user of user id 2696')\n",
    "plt.show()\n",
    "print('**************Rating by user id = 2696************************')\n",
    "print()\n",
    "for i in range(len(x_label)):\n",
    "    print('Rating ',x_label[i],\":\",rating_2696[i])\n",
    "print('**************************************************************')"
   ]
  },
  {
   "cell_type": "markdown",
   "metadata": {
    "collapsed": true
   },
   "source": [
    "# MACHINE LEARNING"
   ]
  },
  {
   "cell_type": "code",
   "execution_count": 15,
   "metadata": {},
   "outputs": [
    {
     "name": "stderr",
     "output_type": "stream",
     "text": [
      "C:\\Users\\Ankush\\Anaconda3\\lib\\site-packages\\sklearn\\preprocessing\\_encoders.py:415: FutureWarning: The handling of integer data will change in version 0.22. Currently, the categories are determined based on the range [0, max(values)], while in the future they will be determined based on the unique values.\n",
      "If you want the future behaviour and silence this warning, you can specify \"categories='auto'\".\n",
      "In case you used a LabelEncoder before this OneHotEncoder to convert the categories to integers, then you can now use the OneHotEncoder directly.\n",
      "  warnings.warn(msg, FutureWarning)\n",
      "C:\\Users\\Ankush\\Anaconda3\\lib\\site-packages\\sklearn\\preprocessing\\_encoders.py:451: DeprecationWarning: The 'categorical_features' keyword is deprecated in version 0.20 and will be removed in 0.22. You can use the ColumnTransformer instead.\n",
      "  \"use the ColumnTransformer instead.\", DeprecationWarning)\n"
     ]
    }
   ],
   "source": [
    "require_dataset = merge_user_rating_data[['MovieID', 'Age', 'Occupation','Rating']].head(500)\n",
    "#print(require_dataset)\n",
    "#print(require_dataset.shape)\n",
    "\n",
    "#SINCE WE HAVE GOT CATEGORICAL VARIABLE, ENCODING THEM.\n",
    "from sklearn.preprocessing import LabelEncoder,OneHotEncoder\n",
    "labelencoder_X = LabelEncoder()\n",
    "require_dataset['MovieID']=labelencoder_X.fit_transform(require_dataset['MovieID'])\n",
    "require_dataset['Age']=labelencoder_X.fit_transform(require_dataset['Age'])\n",
    "require_dataset['Occupation']=labelencoder_X.fit_transform(require_dataset['Occupation'])\n",
    "\n",
    "label_encoder_y = LabelEncoder()\n",
    "require_dataset['Rating'] =label_encoder_y.fit_transform(require_dataset['Rating'])\n",
    "#print(require_dataset)\n",
    " \n",
    "onehotencoder = OneHotEncoder(categorical_features = [0,2])\n",
    "X_feature = onehotencoder.fit_transform(require_dataset).toarray()#Features\n",
    "#print(require_dataset.shape)\n",
    "y_target = require_dataset['Rating'] #Label"
   ]
  },
  {
   "cell_type": "code",
   "execution_count": 16,
   "metadata": {
    "scrolled": true
   },
   "outputs": [
    {
     "name": "stdout",
     "output_type": "stream",
     "text": [
      "[2 4 3 3 3 3 2 1 2 3 4 4 3 4 3 3 4 3 1 3 4 3 2 3 3 4 3 2 2 4 4 4 4 3 3 2 2\n",
      " 2 4 2 3 3 4 4 3 3 1 3 4 2 3 3 2 3 2 4 3 2 3 3 2 3 4 3 4 4 4 3 2 3 3 3 1 4\n",
      " 3 4 2 4 3 2 3 2 4 2 3 1 4 2 2 3 4 2 1 2 2 3 2 4 2 3 4 3 2 1 4 2 2 2 2 3 4\n",
      " 3 4 4 3 4 4 3 1 4 3 3 3 3 2]\n"
     ]
    },
    {
     "name": "stderr",
     "output_type": "stream",
     "text": [
      "C:\\Users\\Ankush\\Anaconda3\\lib\\site-packages\\sklearn\\linear_model\\logistic.py:432: FutureWarning: Default solver will be changed to 'lbfgs' in 0.22. Specify a solver to silence this warning.\n",
      "  FutureWarning)\n",
      "C:\\Users\\Ankush\\Anaconda3\\lib\\site-packages\\sklearn\\linear_model\\logistic.py:469: FutureWarning: Default multi_class will be changed to 'auto' in 0.22. Specify the multi_class option to silence this warning.\n",
      "  \"this warning.\", FutureWarning)\n"
     ]
    },
    {
     "data": {
      "text/plain": [
       "'\\nfrom sklearn.metrics import confusion_matrix\\nconfusion_matrix = confusion_matrix(Y_test, y_pred)\\nprint(confusion_matrix)\\n\\nfrom sklearn.metrics import classification_report\\nprint(classification_report(Y_test, y_pred))\\n'"
      ]
     },
     "execution_count": 16,
     "metadata": {},
     "output_type": "execute_result"
    }
   ],
   "source": [
    "#MODELLING PHASE\n",
    "from sklearn.model_selection import train_test_split\n",
    "X_train, X_test, Y_train, Y_test = train_test_split(X_feature, y_target,random_state = 4)\n",
    "'''\n",
    "print(X_train.shape)\n",
    "print(X_test.shape)\n",
    "print(Y_train.shape)\n",
    "print(Y_test.shape)\n",
    "'''\n",
    "from sklearn.linear_model import LogisticRegression\n",
    "\n",
    "estimator = LogisticRegression()\n",
    "\n",
    "estimator.fit(X_train, Y_train)\n",
    "\n",
    "y_pred = estimator.predict(X_test)\n",
    "print(y_pred)\n",
    "'''\n",
    "import numpy as np\n",
    "MSE = np.mean((y_pred - Y_test)**2)\n",
    "print(MSE)\n",
    "'''\n",
    "'''\n",
    "from sklearn.metrics import confusion_matrix\n",
    "confusion_matrix = confusion_matrix(Y_test, y_pred)\n",
    "print(confusion_matrix)\n",
    "\n",
    "from sklearn.metrics import classification_report\n",
    "print(classification_report(Y_test, y_pred))\n",
    "'''"
   ]
  },
  {
   "cell_type": "code",
   "execution_count": null,
   "metadata": {},
   "outputs": [],
   "source": []
  }
 ],
 "metadata": {
  "kernelspec": {
   "display_name": "Python 3",
   "language": "python",
   "name": "python3"
  },
  "language_info": {
   "codemirror_mode": {
    "name": "ipython",
    "version": 3
   },
   "file_extension": ".py",
   "mimetype": "text/x-python",
   "name": "python",
   "nbconvert_exporter": "python",
   "pygments_lexer": "ipython3",
   "version": "3.7.3"
  }
 },
 "nbformat": 4,
 "nbformat_minor": 1
}
